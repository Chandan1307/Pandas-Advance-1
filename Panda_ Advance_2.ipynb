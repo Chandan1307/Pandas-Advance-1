{
 "cells": [
  {
   "cell_type": "markdown",
   "id": "26b31fe0-fa7d-44ec-be07-19f171af49b6",
   "metadata": {},
   "source": [
    "Consider following code to answer further questions:"
   ]
  },
  {
   "cell_type": "code",
   "execution_count": 1,
   "id": "4a08fa96-bae4-4a65-b09e-1975eb935db0",
   "metadata": {},
   "outputs": [],
   "source": [
    "import pandas as pd"
   ]
  },
  {
   "cell_type": "code",
   "execution_count": 3,
   "id": "abf25aee-f507-408b-969f-021efbe80449",
   "metadata": {},
   "outputs": [],
   "source": [
    "df= ({'course_name':[\"Data Science\", \"Machine Learning\", \"Big Data\", \"Data Engineer\"],\n",
    "      'duration':[2,3,6,4]})"
   ]
  },
  {
   "cell_type": "code",
   "execution_count": 4,
   "id": "5c1be122-2b64-4803-96c6-81e5acab0cd5",
   "metadata": {},
   "outputs": [],
   "source": [
    "df1 = pd.DataFrame(df)"
   ]
  },
  {
   "cell_type": "code",
   "execution_count": 5,
   "id": "5ad63d7d-842d-43c5-91ae-a69fa7e8d004",
   "metadata": {},
   "outputs": [
    {
     "data": {
      "text/html": [
       "<div>\n",
       "<style scoped>\n",
       "    .dataframe tbody tr th:only-of-type {\n",
       "        vertical-align: middle;\n",
       "    }\n",
       "\n",
       "    .dataframe tbody tr th {\n",
       "        vertical-align: top;\n",
       "    }\n",
       "\n",
       "    .dataframe thead th {\n",
       "        text-align: right;\n",
       "    }\n",
       "</style>\n",
       "<table border=\"1\" class=\"dataframe\">\n",
       "  <thead>\n",
       "    <tr style=\"text-align: right;\">\n",
       "      <th></th>\n",
       "      <th>course_name</th>\n",
       "      <th>duration</th>\n",
       "    </tr>\n",
       "  </thead>\n",
       "  <tbody>\n",
       "    <tr>\n",
       "      <th>0</th>\n",
       "      <td>Data Science</td>\n",
       "      <td>2</td>\n",
       "    </tr>\n",
       "    <tr>\n",
       "      <th>1</th>\n",
       "      <td>Machine Learning</td>\n",
       "      <td>3</td>\n",
       "    </tr>\n",
       "    <tr>\n",
       "      <th>2</th>\n",
       "      <td>Big Data</td>\n",
       "      <td>6</td>\n",
       "    </tr>\n",
       "    <tr>\n",
       "      <th>3</th>\n",
       "      <td>Data Engineer</td>\n",
       "      <td>4</td>\n",
       "    </tr>\n",
       "  </tbody>\n",
       "</table>\n",
       "</div>"
      ],
      "text/plain": [
       "        course_name  duration\n",
       "0      Data Science         2\n",
       "1  Machine Learning         3\n",
       "2          Big Data         6\n",
       "3     Data Engineer         4"
      ]
     },
     "execution_count": 5,
     "metadata": {},
     "output_type": "execute_result"
    }
   ],
   "source": [
    "df1"
   ]
  },
  {
   "cell_type": "markdown",
   "id": "c58d9bb8-b09e-4414-afec-c291309ff4ed",
   "metadata": {},
   "source": [
    "Q1. Write a code to print the data present in the second row of the dataframe, df."
   ]
  },
  {
   "cell_type": "code",
   "execution_count": 6,
   "id": "f805a4d9-d5c3-4191-b890-cc2f88d7a564",
   "metadata": {},
   "outputs": [
    {
     "data": {
      "text/html": [
       "<div>\n",
       "<style scoped>\n",
       "    .dataframe tbody tr th:only-of-type {\n",
       "        vertical-align: middle;\n",
       "    }\n",
       "\n",
       "    .dataframe tbody tr th {\n",
       "        vertical-align: top;\n",
       "    }\n",
       "\n",
       "    .dataframe thead th {\n",
       "        text-align: right;\n",
       "    }\n",
       "</style>\n",
       "<table border=\"1\" class=\"dataframe\">\n",
       "  <thead>\n",
       "    <tr style=\"text-align: right;\">\n",
       "      <th></th>\n",
       "      <th>course_name</th>\n",
       "      <th>duration</th>\n",
       "    </tr>\n",
       "  </thead>\n",
       "  <tbody>\n",
       "    <tr>\n",
       "      <th>1</th>\n",
       "      <td>Machine Learning</td>\n",
       "      <td>3</td>\n",
       "    </tr>\n",
       "  </tbody>\n",
       "</table>\n",
       "</div>"
      ],
      "text/plain": [
       "        course_name  duration\n",
       "1  Machine Learning         3"
      ]
     },
     "execution_count": 6,
     "metadata": {},
     "output_type": "execute_result"
    }
   ],
   "source": [
    "df1[1:2]"
   ]
  },
  {
   "cell_type": "markdown",
   "id": "3c103660-0db7-46b0-aadf-44b1dcb0c7bb",
   "metadata": {},
   "source": [
    "Q2. What is the difference between the functions loc and iloc in pandas.DataFrame?"
   ]
  },
  {
   "cell_type": "markdown",
   "id": "09b90837-465d-435b-baef-1e321cc168cf",
   "metadata": {},
   "source": [
    "The main difference between loc and iloc is that loc selects data by using the labels of rows and columns, while iloc selects data by using the integer positions of rows and columns.\n",
    "\n",
    "Explain:\n",
    "\n",
    "loc selects data based on label. You can use the row and column labels to select data. \n",
    "For example, df.loc[2, 'duration'] will select the value in the row labeled 2 and the column labeled duration.\n",
    "\n",
    "\n",
    "iloc selects data based on integer position. You can use the row and column integer positions to select data. \n",
    "For example, df.iloc[2, 1] will select the value in the third row (integer position 2) and the second column (integer position 1)."
   ]
  },
  {
   "cell_type": "raw",
   "id": "3bacda12-4130-4636-a8ed-9bca6daae451",
   "metadata": {},
   "source": [
    "Q3. Reindex the given dataframe using a variable, reindex = [3,0,1,2] and store it in the variable, new_df\n",
    "then find the output for both new_df.loc[2] and new_df.iloc[2].\n",
    "\n",
    "Did you observe any difference in both the outputs? If so then explain it.\n",
    "Consider the below code to answer further questions:"
   ]
  },
  {
   "cell_type": "markdown",
   "id": "a711e234-9fa6-4891-9dc4-33158b2707d0",
   "metadata": {},
   "source": [
    "import pandas as pd\n",
    "import numpy as np\n",
    "columns = ['column_1', 'column_2', 'column_3', 'column_4', 'column_5', 'column_6']\n",
    "indices = [1,2,3,4,5,6]\n",
    "#Creating a dataframe:\n",
    "df1 = pd.DataFrame(np.random.rand(6,6), columns = columns, index = indices)"
   ]
  },
  {
   "cell_type": "code",
   "execution_count": 7,
   "id": "023e7470-6058-41b3-8381-9c24fba6b970",
   "metadata": {},
   "outputs": [],
   "source": [
    "import pandas as pd\n",
    "import numpy as np\n",
    "\n",
    "d =  ({\"course_name\":['Data Science', 'Machine Learning', 'Big Data', 'Data Engineer'],\n",
    "    \"duration\":[2,3,4,5]})\n"
   ]
  },
  {
   "cell_type": "code",
   "execution_count": 8,
   "id": "70ac710b-3f90-4dc5-8c46-cd1c0a0ebbb2",
   "metadata": {},
   "outputs": [],
   "source": [
    "d1=pd.DataFrame(d)"
   ]
  },
  {
   "cell_type": "code",
   "execution_count": 9,
   "id": "8cdff32c-bfeb-41e4-93cc-6b544a1ea9a2",
   "metadata": {},
   "outputs": [
    {
     "data": {
      "text/html": [
       "<div>\n",
       "<style scoped>\n",
       "    .dataframe tbody tr th:only-of-type {\n",
       "        vertical-align: middle;\n",
       "    }\n",
       "\n",
       "    .dataframe tbody tr th {\n",
       "        vertical-align: top;\n",
       "    }\n",
       "\n",
       "    .dataframe thead th {\n",
       "        text-align: right;\n",
       "    }\n",
       "</style>\n",
       "<table border=\"1\" class=\"dataframe\">\n",
       "  <thead>\n",
       "    <tr style=\"text-align: right;\">\n",
       "      <th></th>\n",
       "      <th>course_name</th>\n",
       "      <th>duration</th>\n",
       "    </tr>\n",
       "  </thead>\n",
       "  <tbody>\n",
       "    <tr>\n",
       "      <th>0</th>\n",
       "      <td>Data Science</td>\n",
       "      <td>2</td>\n",
       "    </tr>\n",
       "    <tr>\n",
       "      <th>1</th>\n",
       "      <td>Machine Learning</td>\n",
       "      <td>3</td>\n",
       "    </tr>\n",
       "    <tr>\n",
       "      <th>2</th>\n",
       "      <td>Big Data</td>\n",
       "      <td>4</td>\n",
       "    </tr>\n",
       "    <tr>\n",
       "      <th>3</th>\n",
       "      <td>Data Engineer</td>\n",
       "      <td>5</td>\n",
       "    </tr>\n",
       "  </tbody>\n",
       "</table>\n",
       "</div>"
      ],
      "text/plain": [
       "        course_name  duration\n",
       "0      Data Science         2\n",
       "1  Machine Learning         3\n",
       "2          Big Data         4\n",
       "3     Data Engineer         5"
      ]
     },
     "execution_count": 9,
     "metadata": {},
     "output_type": "execute_result"
    }
   ],
   "source": [
    "d1"
   ]
  },
  {
   "cell_type": "code",
   "execution_count": 10,
   "id": "8a01c5bd-e251-4243-8a7c-5c24ad23ba30",
   "metadata": {},
   "outputs": [],
   "source": [
    "reindex = [3, 0, 1, 2]"
   ]
  },
  {
   "cell_type": "code",
   "execution_count": 11,
   "id": "fd0394b9-7252-42e9-a5b2-b248342b5e83",
   "metadata": {},
   "outputs": [],
   "source": [
    "new_df = d1.reindex(reindex)"
   ]
  },
  {
   "cell_type": "code",
   "execution_count": 12,
   "id": "71d7f35c-d0d2-4020-98f5-2784296b02e6",
   "metadata": {},
   "outputs": [
    {
     "data": {
      "text/html": [
       "<div>\n",
       "<style scoped>\n",
       "    .dataframe tbody tr th:only-of-type {\n",
       "        vertical-align: middle;\n",
       "    }\n",
       "\n",
       "    .dataframe tbody tr th {\n",
       "        vertical-align: top;\n",
       "    }\n",
       "\n",
       "    .dataframe thead th {\n",
       "        text-align: right;\n",
       "    }\n",
       "</style>\n",
       "<table border=\"1\" class=\"dataframe\">\n",
       "  <thead>\n",
       "    <tr style=\"text-align: right;\">\n",
       "      <th></th>\n",
       "      <th>course_name</th>\n",
       "      <th>duration</th>\n",
       "    </tr>\n",
       "  </thead>\n",
       "  <tbody>\n",
       "    <tr>\n",
       "      <th>3</th>\n",
       "      <td>Data Engineer</td>\n",
       "      <td>5</td>\n",
       "    </tr>\n",
       "    <tr>\n",
       "      <th>0</th>\n",
       "      <td>Data Science</td>\n",
       "      <td>2</td>\n",
       "    </tr>\n",
       "    <tr>\n",
       "      <th>1</th>\n",
       "      <td>Machine Learning</td>\n",
       "      <td>3</td>\n",
       "    </tr>\n",
       "    <tr>\n",
       "      <th>2</th>\n",
       "      <td>Big Data</td>\n",
       "      <td>4</td>\n",
       "    </tr>\n",
       "  </tbody>\n",
       "</table>\n",
       "</div>"
      ],
      "text/plain": [
       "        course_name  duration\n",
       "3     Data Engineer         5\n",
       "0      Data Science         2\n",
       "1  Machine Learning         3\n",
       "2          Big Data         4"
      ]
     },
     "execution_count": 12,
     "metadata": {},
     "output_type": "execute_result"
    }
   ],
   "source": [
    "new_df"
   ]
  },
  {
   "cell_type": "code",
   "execution_count": 13,
   "id": "31f51696-54b4-4883-8f46-14e630e4ddd5",
   "metadata": {},
   "outputs": [
    {
     "data": {
      "text/plain": [
       "course_name    Big Data\n",
       "duration              4\n",
       "Name: 2, dtype: object"
      ]
     },
     "execution_count": 13,
     "metadata": {},
     "output_type": "execute_result"
    }
   ],
   "source": [
    "new_df.loc[2]"
   ]
  },
  {
   "cell_type": "code",
   "execution_count": 14,
   "id": "fd14c6d5-4146-4326-a9a7-2122d1a625fe",
   "metadata": {},
   "outputs": [
    {
     "data": {
      "text/plain": [
       "course_name    Machine Learning\n",
       "duration                      3\n",
       "Name: 1, dtype: object"
      ]
     },
     "execution_count": 14,
     "metadata": {},
     "output_type": "execute_result"
    }
   ],
   "source": [
    "new_df.iloc[2]"
   ]
  },
  {
   "cell_type": "markdown",
   "id": "2816fd60-8db6-4d6a-a7ed-560d47dd20d3",
   "metadata": {},
   "source": [
    "Q4. Write a code to find the following statistical measurements for the above dataframe df1:\n",
    "\n",
    "(i) mean of each and every column present in the dataframe.\n",
    "\n",
    "(ii) standard deviation of column, ‘column_2’"
   ]
  },
  {
   "cell_type": "code",
   "execution_count": 15,
   "id": "6dcaf7dc-9a72-4ed2-8db6-892e925f4f36",
   "metadata": {},
   "outputs": [],
   "source": [
    "import pandas as pd\n",
    "import numpy as np\n",
    "\n",
    "columns = ['column_1', 'column_2', 'column_3', 'column_4', 'column_5', 'column_6']\n",
    "indices = [1, 2, 3, 4, 5, 6]\n",
    "# Creating a dataframe:\n",
    "df1 = pd.DataFrame(np.random.rand(6, 6), columns=columns, index=indices)"
   ]
  },
  {
   "cell_type": "code",
   "execution_count": 16,
   "id": "05418ac0-8849-44fc-af50-5063769024da",
   "metadata": {},
   "outputs": [
    {
     "data": {
      "text/plain": [
       "column_1    0.591778\n",
       "column_2    0.453728\n",
       "column_3    0.420367\n",
       "column_4    0.625223\n",
       "column_5    0.550960\n",
       "column_6    0.471755\n",
       "dtype: float64"
      ]
     },
     "execution_count": 16,
     "metadata": {},
     "output_type": "execute_result"
    }
   ],
   "source": [
    "df1.mean()"
   ]
  },
  {
   "cell_type": "code",
   "execution_count": 17,
   "id": "16c41444-e3bc-4e6b-b3d7-8806812a316e",
   "metadata": {},
   "outputs": [
    {
     "data": {
      "text/plain": [
       "0.3616970100689416"
      ]
     },
     "execution_count": 17,
     "metadata": {},
     "output_type": "execute_result"
    }
   ],
   "source": [
    "df1['column_2'].std()"
   ]
  },
  {
   "cell_type": "markdown",
   "id": "2667796b-c300-4564-a79a-19af19989c5f",
   "metadata": {},
   "source": [
    "Q5. Replace the data present in the second row of column, ‘column_2’ by a string variable then find the\n",
    "mean of column, column_2.\n",
    "If you are getting errors in executing it then explain why.\n",
    "\n",
    "[Hint: To replace the data use df1.loc[] and equate this to string data of your choice.]"
   ]
  },
  {
   "cell_type": "code",
   "execution_count": 22,
   "id": "8b7feef3-a162-411f-b999-763462ba743e",
   "metadata": {},
   "outputs": [
    {
     "data": {
      "text/plain": [
       "'string_variable'"
      ]
     },
     "execution_count": 22,
     "metadata": {},
     "output_type": "execute_result"
    }
   ],
   "source": [
    "df1.loc[2, 'column_2']"
   ]
  },
  {
   "cell_type": "markdown",
   "id": "c737b7f0-7aa7-4175-b028-39094decec97",
   "metadata": {},
   "source": [
    "Q6. What do you understand about the windows function in pandas and list the types of windows\n",
    "functions?"
   ]
  },
  {
   "cell_type": "markdown",
   "id": "83121e78-53df-4e65-b4bd-e16591882e10",
   "metadata": {},
   "source": [
    "In pandas, a window function is a way of performing a calculation on a sliding window of data, where the size of the window is fixed and moves over the data frame. The window function calculates a new value for each element in the window based on a function that takes the values in the window as input.\n",
    "\n",
    "There are several types of window functions available in pandas, including:\n",
    "\n",
    "1.Rolling: This type of window function calculates a rolling window of values, where each value in the window is based on the previous n values, where n is the size of the window.\n",
    "\n",
    "2.Expanding: This type of window function calculates an expanding window of values, where each value in the window is based on all the previous values in the data frame.\n",
    "\n",
    "3.Rolling with a Time Window: This is similar to the rolling window function, but it operates on time-series data and the window size is defined by a time duration rather than a fixed number of data points.\n",
    "\n",
    "4.Exponentially Weighted Moving Average (EWMA): This is a type of rolling window function that gives more weight to recent values in the window, with a decay factor that determines the weight of each value.\n",
    "\n",
    "5.Cumulative: This type of window function calculates the cumulative values of a series based on a specific operation (e.g. sum, product, etc.) over all the previous values.\n",
    "\n",
    "\n",
    "These functions are useful in performing complex operations on a data frame, especially when working with time-series data or analyzing data over a sliding window."
   ]
  },
  {
   "cell_type": "code",
   "execution_count": null,
   "id": "c5928b87-d926-4e07-bbca-592a717359f4",
   "metadata": {},
   "outputs": [],
   "source": []
  },
  {
   "cell_type": "markdown",
   "id": "97a97752-d660-4226-a2ee-1c0d6094ca86",
   "metadata": {},
   "source": [
    "Q7. Write a code to print only the current month and year at the time of answering this question.\n",
    "[Hint: Use pandas.datetime function]"
   ]
  },
  {
   "cell_type": "code",
   "execution_count": 29,
   "id": "3124de41-b938-4289-a819-bdc1fc43181c",
   "metadata": {},
   "outputs": [
    {
     "name": "stdout",
     "output_type": "stream",
     "text": [
      "March 2023\n"
     ]
    }
   ],
   "source": [
    "import datetime\n",
    "\n",
    "current_date = datetime.datetime.now()\n",
    "current_month_year = current_date.strftime('%B %Y')\n",
    "print(current_month_year)\n"
   ]
  },
  {
   "cell_type": "markdown",
   "id": "a98ae394-83a0-4b72-9b6b-72019fe5b3d4",
   "metadata": {},
   "source": [
    "Q8. Write a Python program that takes in two dates as input (in the format YYYY-MM-DD) and\n",
    "calculates the difference between them in days, hours, and minutes using Pandas time delta. The\n",
    "program should prompt the user to enter the dates and display the result."
   ]
  },
  {
   "cell_type": "code",
   "execution_count": 30,
   "id": "06225f29-81c0-400f-9a9b-884e9e32e412",
   "metadata": {},
   "outputs": [
    {
     "name": "stdin",
     "output_type": "stream",
     "text": [
      "Enter the start date (YYYY-MM-DD):  2023-04-12\n",
      "Enter the end date (YYYY-MM-DD):  2023-06-20\n"
     ]
    },
    {
     "name": "stdout",
     "output_type": "stream",
     "text": [
      "The difference between 2023-04-12 and 2023-06-20 is:\n",
      "69 days, 0 hours, and 0 minutes.\n"
     ]
    }
   ],
   "source": [
    "# Get input from the user\n",
    "start_date = input(\"Enter the start date (YYYY-MM-DD): \")\n",
    "end_date = input(\"Enter the end date (YYYY-MM-DD): \")\n",
    "\n",
    "# Convert input to pandas datetime format\n",
    "start_date = pd.to_datetime(start_date)\n",
    "end_date = pd.to_datetime(end_date)\n",
    "\n",
    "# Calculate the timedelta between the two dates\n",
    "time_diff = end_date - start_date\n",
    "\n",
    "# Extract days, hours, and minutes from the timedelta\n",
    "days_diff = time_diff.days\n",
    "hours_diff = time_diff.seconds // 3600\n",
    "minutes_diff = (time_diff.seconds // 60) % 60\n",
    "\n",
    "# Display the result\n",
    "print(\"The difference between\", start_date.date(), \"and\", end_date.date(), \"is:\")\n",
    "print(days_diff, \"days,\", hours_diff, \"hours,\", \"and\", minutes_diff, \"minutes.\")\n"
   ]
  },
  {
   "cell_type": "markdown",
   "id": "2e58b2e1-8d22-41c0-b9e7-e2463011d20b",
   "metadata": {},
   "source": [
    "Q9. Write a Python program that reads a CSV file containing categorical data and converts a specified\n",
    "column to a categorical data type. The program should prompt the user to enter the file path, column\n",
    "name, and category order, and then display the sorted data."
   ]
  },
  {
   "cell_type": "code",
   "execution_count": 2,
   "id": "213ca5dd-2755-422f-ba53-b9182cb15442",
   "metadata": {},
   "outputs": [],
   "source": [
    "import pandas as pd\n",
    "\n",
    "# Prompt user for file path\n",
    "file_path = input(\"Enter file path: \")\n",
    "\n",
    "# Prompt user for column name\n",
    "column_name = input(\"Enter column name: \")\n",
    "\n",
    "# Prompt user for category order\n",
    "category_order = input(\"Enter category order (comma-separated): \")\n",
    "category_order = category_order.split(\",\")\n",
    "\n",
    "# Read CSV file\n",
    "df = pd.read_csv(file_path)\n",
    "\n",
    "# Convert column to categorical data type\n",
    "df[column_name] = pd.Categorical(df[column_name], categories=category_order, ordered=True)\n",
    "\n",
    "# Sort data by column\n",
    "df_sorted = df.sort_values(column_name)\n",
    "\n",
    "# Display sorted data\n",
    "print(df_sorted)\n"
   ]
  },
  {
   "cell_type": "markdown",
   "id": "bf03f183-9a06-48c6-a765-84f7f738999b",
   "metadata": {},
   "source": [
    "Q10. Write a Python program that reads a CSV file containing sales data for different products and\n",
    "visualizes the data using a stacked bar chart to show the sales of each product category over time. The\n",
    "program should prompt the user to enter the file path and display the chart."
   ]
  },
  {
   "cell_type": "code",
   "execution_count": null,
   "id": "b7b4ad90-db07-4160-b091-5bcc17ac275d",
   "metadata": {},
   "outputs": [],
   "source": [
    "import pandas as pd\n",
    "import matplotlib.pyplot as plt\n",
    "\n",
    "# Prompt user for file path\n",
    "file_path = input(\"Enter file path: \")\n",
    "\n",
    "# Read CSV file\n",
    "df = pd.read_csv(file_path)\n",
    "\n",
    "# Pivot data to create a stacked bar chart\n",
    "df_pivot = df.pivot(index='Date', columns='Product Category', values='Sales')\n",
    "\n",
    "# Create stacked bar chart\n",
    "ax = df_pivot.plot(kind='bar', stacked=True)\n",
    "\n",
    "# Set chart title and labels\n",
    "ax.set_title('Sales by Product Category')\n",
    "ax.set_xlabel('Date')\n",
    "ax.set_ylabel('Sales')\n",
    "\n",
    "# Display chart\n",
    "plt.show()"
   ]
  },
  {
   "cell_type": "raw",
   "id": "5854c922-ede9-428c-aef1-68e83bc6ea2c",
   "metadata": {},
   "source": [
    "Q11. You are given a CSV file containing student data that includes the student ID and their test score. Write\n",
    "a Python program that reads the CSV file, calculates the mean, median, and mode of the test scores, and\n",
    "displays the results in a table.\n",
    "\n",
    "The program should do the following:\n",
    ". Prompt the user to enter the file path of the CSV file containing the student dataR\n",
    ". Read the CSV file into a Pandas DataFrameR\n",
    ". Calculate the mean, median, and mode of the test scores using Pandas toolsR\n",
    ". Display the mean, median, and mode in a table.\n",
    "\n",
    "Assume the CSV file contains the following columns:\n",
    ". Student ID: The ID of the studentR\n",
    ". Test Score: The score of the student's test.\n",
    "\n",
    "Example usage of the program:\n",
    "Enter the file path of the CSV file containing the student data: student_data.csv\n",
    "+-----------+--------+\n",
    "| Statistic | Value |\n",
    "+-----------+--------+\n",
    "| Mean | 79.6 |\n",
    "| Median | 82 |\n",
    "| Mode | 85, 90 |\n",
    "+-----------+--------+\n",
    "Assume that the CSV file student_data.csv contains the following data:\n",
    "Student ID,Test Score\n",
    "1,85\n",
    "2,90\n",
    "3,80\n",
    "4,75\n",
    "5,85\n",
    "6,82\n",
    "7,78\n",
    "8,85\n",
    "9,90\n",
    "10,85\n",
    "\n",
    "The program should calculate the mean, median, and mode of the test scores and display the results\n",
    "in a table."
   ]
  }
 ],
 "metadata": {
  "kernelspec": {
   "display_name": "Python 3 (ipykernel)",
   "language": "python",
   "name": "python3"
  },
  "language_info": {
   "codemirror_mode": {
    "name": "ipython",
    "version": 3
   },
   "file_extension": ".py",
   "mimetype": "text/x-python",
   "name": "python",
   "nbconvert_exporter": "python",
   "pygments_lexer": "ipython3",
   "version": "3.10.8"
  }
 },
 "nbformat": 4,
 "nbformat_minor": 5
}
